{
 "cells": [
  {
   "cell_type": "code",
   "execution_count": 33,
   "metadata": {},
   "outputs": [],
   "source": [
    "import tensorflow as tf\n",
    "tf.compat.v1.enable_eager_execution()\n",
    "\n",
    "from keras.models import Sequential\n",
    "from keras.layers import Dense, Activation, Dropout, Flatten, Conv2D, MaxPooling2D\n",
    "from keras.optimizers import SGD, RMSprop, Adam\n",
    "from sklearn.tree import DecisionTreeClassifier\n",
    "from sklearn import metrics\n",
    "from sklearn.utils import shuffle\n",
    "from sklearn.model_selection import train_test_split\n",
    "import matplotlib.image as mpimg\n",
    "import matplotlib.pyplot as plt\n",
    "import numpy as np\n",
    "from numpy import random\n",
    "import os\n",
    "import cv2\n",
    "from PIL import Image\n",
    "import pandas as pd"
   ]
  },
  {
   "cell_type": "code",
   "execution_count": 23,
   "metadata": {},
   "outputs": [],
   "source": [
    "data_path = \"data\"\n",
    "# Read the CSV file containing filenames and labels\n",
    "labels_df = pd.read_csv(os.path.join(data_path, \"english.csv\"))\n",
    "\n",
    "# Define categories(labels)\n",
    "CATEGORIES = ['a', 'b', 'c', 'd', 'e', 'f', 'g', 'h', 'i', 'j', 'k', 'l', 'm', 'n', 'o', 'p', 'q', 'r', 's', 't', 'u', 'v', 'w', 'x', 'y', 'z', 'A', 'B', 'C', 'D', 'E', 'F', 'G', 'H', 'I', 'J', 'K', 'L', 'M', 'N', 'O', 'P', 'Q', 'R', 'S', 'T', 'U', 'V', 'W', 'X', 'Y', 'Z','0', '1', '2', '3', '4', '5', '6', '7', '8', '9']\n",
    "# Define image size\n",
    "IMG_SIZE = 200\n"
   ]
  },
  {
   "cell_type": "code",
   "execution_count": 24,
   "metadata": {},
   "outputs": [],
   "source": [
    "# Step 3: Create Training Data\n",
    "\n",
    "training = []\n",
    "\n",
    "def createTrainingData():\n",
    "    for index, row in labels_df.iterrows():\n",
    "        img_path = os.path.join(data_path, \"images\", row['image'])\n",
    "        # Check if the image file exists\n",
    "        if not os.path.exists(img_path):\n",
    "            print(\"Image file does not exist:\", img_path)\n",
    "            continue\n",
    "        \n",
    "        class_num = CATEGORIES.index(row['label'])\n",
    "        img_array = cv2.imread(img_path)\n",
    "        \n",
    "        # Check if the image array is empty (i.e., image reading failed)\n",
    "        if img_array is None:\n",
    "            print(\"Error reading image:\", img_path)\n",
    "            continue\n",
    "        \n",
    "        new_array = cv2.resize(img_array, (IMG_SIZE, IMG_SIZE))\n",
    "        training.append([new_array, class_num])\n",
    "\n",
    "createTrainingData()\n"
   ]
  },
  {
   "cell_type": "code",
   "execution_count": 25,
   "metadata": {},
   "outputs": [],
   "source": [
    "random.shuffle(training)"
   ]
  },
  {
   "cell_type": "code",
   "execution_count": 26,
   "metadata": {},
   "outputs": [],
   "source": [
    "X =[]\n",
    "y =[]\n",
    "for features, label in training:\n",
    "  X.append(features)\n",
    "  y.append(label)\n",
    "X = np.array(X).reshape(-1, IMG_SIZE, IMG_SIZE, 3)"
   ]
  },
  {
   "cell_type": "code",
   "execution_count": 27,
   "metadata": {},
   "outputs": [
    {
     "data": {
      "text/plain": [
       "62"
      ]
     },
     "execution_count": 27,
     "metadata": {},
     "output_type": "execute_result"
    }
   ],
   "source": [
    "len(CATEGORIES)"
   ]
  },
  {
   "cell_type": "code",
   "execution_count": 35,
   "metadata": {},
   "outputs": [
    {
     "name": "stdout",
     "output_type": "stream",
     "text": [
      "[0. 0. 0. 0. 0. 0. 0. 0. 0. 0. 1. 0. 0. 0. 0. 0. 0. 0. 0. 0. 0. 0. 0. 0.\n",
      " 0. 0. 0. 0. 0. 0. 0. 0. 0. 0. 0. 0. 0. 0. 0. 0. 0. 0. 0. 0. 0. 0. 0. 0.\n",
      " 0. 0. 0. 0. 0. 0. 0. 0. 0. 0. 0. 0. 0. 0.]\n"
     ]
    },
    {
     "data": {
      "text/plain": [
       "array([[0., 0., 0., ..., 0., 0., 0.],\n",
       "       [0., 0., 0., ..., 0., 0., 0.],\n",
       "       [0., 0., 0., ..., 0., 0., 0.],\n",
       "       ...,\n",
       "       [0., 0., 0., ..., 0., 0., 0.],\n",
       "       [0., 0., 0., ..., 0., 0., 0.],\n",
       "       [0., 0., 0., ..., 0., 0., 0.]])"
      ]
     },
     "execution_count": 35,
     "metadata": {},
     "output_type": "execute_result"
    }
   ],
   "source": [
    "X = X.astype('float32')\n",
    "X /= 255\n",
    "from keras.utils import to_categorical\n",
    "Y = to_categorical(y, 62)\n",
    "print(Y[100])\n",
    "Y"
   ]
  },
  {
   "cell_type": "code",
   "execution_count": 29,
   "metadata": {},
   "outputs": [],
   "source": [
    "X_train, X_test, y_train, y_test = train_test_split(X, y, test_size = 0.2, random_state = 4)"
   ]
  },
  {
   "cell_type": "code",
   "execution_count": 39,
   "metadata": {},
   "outputs": [],
   "source": [
    "import tensorflow as tf\n",
    "\n",
    "batch_size = 16\n",
    "nb_classes = 62  # Adjusted to match the number of classes in your data\n",
    "nb_epochs = 5\n",
    "img_rows, img_columns = 200, 200\n",
    "img_channel = 3\n",
    "nb_filters = 32\n",
    "nb_pool = 2\n",
    "nb_conv = 3\n",
    "\n",
    "model = tf.keras.Sequential([\n",
    "    tf.keras.layers.Conv2D(nb_filters, (nb_conv, nb_conv), padding='same', activation=tf.nn.relu,\n",
    "                           input_shape=(img_rows, img_columns, img_channel)),\n",
    "    tf.keras.layers.MaxPooling2D((nb_pool, nb_pool), strides=2),\n",
    "    tf.keras.layers.Conv2D(nb_filters, (nb_conv, nb_conv), padding='same', activation=tf.nn.relu),\n",
    "    tf.keras.layers.MaxPooling2D((nb_pool, nb_pool), strides=2),\n",
    "    tf.keras.layers.Dropout(0.5),\n",
    "    tf.keras.layers.Flatten(),\n",
    "    tf.keras.layers.Dense(128, activation=tf.nn.relu),\n",
    "    tf.keras.layers.Dense(nb_classes, activation=tf.nn.softmax)\n",
    "])\n"
   ]
  },
  {
   "cell_type": "code",
   "execution_count": 41,
   "metadata": {},
   "outputs": [
    {
     "ename": "ValueError",
     "evalue": "Unrecognized data type: x=[[[[1. 1. 1.]\n   [1. 1. 1.]\n   [1. 1. 1.]\n   ...\n   [1. 1. 1.]\n   [1. 1. 1.]\n   [1. 1. 1.]]\n\n  [[1. 1. 1.]\n   [1. 1. 1.]\n   [1. 1. 1.]\n   ...\n   [1. 1. 1.]\n   [1. 1. 1.]\n   [1. 1. 1.]]\n\n  [[1. 1. 1.]\n   [1. 1. 1.]\n   [1. 1. 1.]\n   ...\n   [1. 1. 1.]\n   [1. 1. 1.]\n   [1. 1. 1.]]\n\n  ...\n\n  [[1. 1. 1.]\n   [1. 1. 1.]\n   [1. 1. 1.]\n   ...\n   [1. 1. 1.]\n   [1. 1. 1.]\n   [1. 1. 1.]]\n\n  [[1. 1. 1.]\n   [1. 1. 1.]\n   [1. 1. 1.]\n   ...\n   [1. 1. 1.]\n   [1. 1. 1.]\n   [1. 1. 1.]]\n\n  [[1. 1. 1.]\n   [1. 1. 1.]\n   [1. 1. 1.]\n   ...\n   [1. 1. 1.]\n   [1. 1. 1.]\n   [1. 1. 1.]]]\n\n\n [[[1. 1. 1.]\n   [1. 1. 1.]\n   [1. 1. 1.]\n   ...\n   [1. 1. 1.]\n   [1. 1. 1.]\n   [1. 1. 1.]]\n\n  [[1. 1. 1.]\n   [1. 1. 1.]\n   [1. 1. 1.]\n   ...\n   [1. 1. 1.]\n   [1. 1. 1.]\n   [1. 1. 1.]]\n\n  [[1. 1. 1.]\n   [1. 1. 1.]\n   [1. 1. 1.]\n   ...\n   [1. 1. 1.]\n   [1. 1. 1.]\n   [1. 1. 1.]]\n\n  ...\n\n  [[1. 1. 1.]\n   [1. 1. 1.]\n   [1. 1. 1.]\n   ...\n   [1. 1. 1.]\n   [1. 1. 1.]\n   [1. 1. 1.]]\n\n  [[1. 1. 1.]\n   [1. 1. 1.]\n   [1. 1. 1.]\n   ...\n   [1. 1. 1.]\n   [1. 1. 1.]\n   [1. 1. 1.]]\n\n  [[1. 1. 1.]\n   [1. 1. 1.]\n   [1. 1. 1.]\n   ...\n   [1. 1. 1.]\n   [1. 1. 1.]\n   [1. 1. 1.]]]\n\n\n [[[1. 1. 1.]\n   [1. 1. 1.]\n   [1. 1. 1.]\n   ...\n   [1. 1. 1.]\n   [1. 1. 1.]\n   [1. 1. 1.]]\n\n  [[1. 1. 1.]\n   [1. 1. 1.]\n   [1. 1. 1.]\n   ...\n   [1. 1. 1.]\n   [1. 1. 1.]\n   [1. 1. 1.]]\n\n  [[1. 1. 1.]\n   [1. 1. 1.]\n   [1. 1. 1.]\n   ...\n   [1. 1. 1.]\n   [1. 1. 1.]\n   [1. 1. 1.]]\n\n  ...\n\n  [[1. 1. 1.]\n   [1. 1. 1.]\n   [1. 1. 1.]\n   ...\n   [1. 1. 1.]\n   [1. 1. 1.]\n   [1. 1. 1.]]\n\n  [[1. 1. 1.]\n   [1. 1. 1.]\n   [1. 1. 1.]\n   ...\n   [1. 1. 1.]\n   [1. 1. 1.]\n   [1. 1. 1.]]\n\n  [[1. 1. 1.]\n   [1. 1. 1.]\n   [1. 1. 1.]\n   ...\n   [1. 1. 1.]\n   [1. 1. 1.]\n   [1. 1. 1.]]]\n\n\n ...\n\n\n [[[1. 1. 1.]\n   [1. 1. 1.]\n   [1. 1. 1.]\n   ...\n   [1. 1. 1.]\n   [1. 1. 1.]\n   [1. 1. 1.]]\n\n  [[1. 1. 1.]\n   [1. 1. 1.]\n   [1. 1. 1.]\n   ...\n   [1. 1. 1.]\n   [1. 1. 1.]\n   [1. 1. 1.]]\n\n  [[1. 1. 1.]\n   [1. 1. 1.]\n   [1. 1. 1.]\n   ...\n   [1. 1. 1.]\n   [1. 1. 1.]\n   [1. 1. 1.]]\n\n  ...\n\n  [[1. 1. 1.]\n   [1. 1. 1.]\n   [1. 1. 1.]\n   ...\n   [1. 1. 1.]\n   [1. 1. 1.]\n   [1. 1. 1.]]\n\n  [[1. 1. 1.]\n   [1. 1. 1.]\n   [1. 1. 1.]\n   ...\n   [1. 1. 1.]\n   [1. 1. 1.]\n   [1. 1. 1.]]\n\n  [[1. 1. 1.]\n   [1. 1. 1.]\n   [1. 1. 1.]\n   ...\n   [1. 1. 1.]\n   [1. 1. 1.]\n   [1. 1. 1.]]]\n\n\n [[[1. 1. 1.]\n   [1. 1. 1.]\n   [1. 1. 1.]\n   ...\n   [1. 1. 1.]\n   [1. 1. 1.]\n   [1. 1. 1.]]\n\n  [[1. 1. 1.]\n   [1. 1. 1.]\n   [1. 1. 1.]\n   ...\n   [1. 1. 1.]\n   [1. 1. 1.]\n   [1. 1. 1.]]\n\n  [[1. 1. 1.]\n   [1. 1. 1.]\n   [1. 1. 1.]\n   ...\n   [1. 1. 1.]\n   [1. 1. 1.]\n   [1. 1. 1.]]\n\n  ...\n\n  [[1. 1. 1.]\n   [1. 1. 1.]\n   [1. 1. 1.]\n   ...\n   [1. 1. 1.]\n   [1. 1. 1.]\n   [1. 1. 1.]]\n\n  [[1. 1. 1.]\n   [1. 1. 1.]\n   [1. 1. 1.]\n   ...\n   [1. 1. 1.]\n   [1. 1. 1.]\n   [1. 1. 1.]]\n\n  [[1. 1. 1.]\n   [1. 1. 1.]\n   [1. 1. 1.]\n   ...\n   [1. 1. 1.]\n   [1. 1. 1.]\n   [1. 1. 1.]]]\n\n\n [[[1. 1. 1.]\n   [1. 1. 1.]\n   [1. 1. 1.]\n   ...\n   [1. 1. 1.]\n   [1. 1. 1.]\n   [1. 1. 1.]]\n\n  [[1. 1. 1.]\n   [1. 1. 1.]\n   [1. 1. 1.]\n   ...\n   [1. 1. 1.]\n   [1. 1. 1.]\n   [1. 1. 1.]]\n\n  [[1. 1. 1.]\n   [1. 1. 1.]\n   [1. 1. 1.]\n   ...\n   [1. 1. 1.]\n   [1. 1. 1.]\n   [1. 1. 1.]]\n\n  ...\n\n  [[1. 1. 1.]\n   [1. 1. 1.]\n   [1. 1. 1.]\n   ...\n   [1. 1. 1.]\n   [1. 1. 1.]\n   [1. 1. 1.]]\n\n  [[1. 1. 1.]\n   [1. 1. 1.]\n   [1. 1. 1.]\n   ...\n   [1. 1. 1.]\n   [1. 1. 1.]\n   [1. 1. 1.]]\n\n  [[1. 1. 1.]\n   [1. 1. 1.]\n   [1. 1. 1.]\n   ...\n   [1. 1. 1.]\n   [1. 1. 1.]\n   [1. 1. 1.]]]] (of type <class 'numpy.ndarray'>)",
     "output_type": "error",
     "traceback": [
      "\u001b[0;31m---------------------------------------------------------------------------\u001b[0m",
      "\u001b[0;31mValueError\u001b[0m                                Traceback (most recent call last)",
      "Cell \u001b[0;32mIn[41], line 2\u001b[0m\n\u001b[1;32m      1\u001b[0m model\u001b[38;5;241m.\u001b[39mcompile(optimizer\u001b[38;5;241m=\u001b[39m\u001b[38;5;124m'\u001b[39m\u001b[38;5;124madam\u001b[39m\u001b[38;5;124m'\u001b[39m, loss\u001b[38;5;241m=\u001b[39m\u001b[38;5;124m'\u001b[39m\u001b[38;5;124mcategorical_crossentropy\u001b[39m\u001b[38;5;124m'\u001b[39m, metrics\u001b[38;5;241m=\u001b[39m[\u001b[38;5;124m'\u001b[39m\u001b[38;5;124maccuracy\u001b[39m\u001b[38;5;124m'\u001b[39m])\n\u001b[0;32m----> 2\u001b[0m \u001b[43mmodel\u001b[49m\u001b[38;5;241;43m.\u001b[39;49m\u001b[43mfit\u001b[49m\u001b[43m(\u001b[49m\u001b[43mX_train\u001b[49m\u001b[43m,\u001b[49m\u001b[43m \u001b[49m\u001b[43my_train\u001b[49m\u001b[43m,\u001b[49m\u001b[43m \u001b[49m\u001b[43mbatch_size\u001b[49m\u001b[38;5;241;43m=\u001b[39;49m\u001b[43mbatch_size\u001b[49m\u001b[43m,\u001b[49m\u001b[43m \u001b[49m\u001b[43mepochs\u001b[49m\u001b[38;5;241;43m=\u001b[39;49m\u001b[43mnb_epochs\u001b[49m\u001b[43m,\u001b[49m\u001b[43m \u001b[49m\u001b[43mverbose\u001b[49m\u001b[38;5;241;43m=\u001b[39;49m\u001b[38;5;241;43m1\u001b[39;49m\u001b[43m,\u001b[49m\u001b[43m \u001b[49m\u001b[43mvalidation_data\u001b[49m\u001b[38;5;241;43m=\u001b[39;49m\u001b[43m(\u001b[49m\u001b[43mX_test\u001b[49m\u001b[43m,\u001b[49m\u001b[43m \u001b[49m\u001b[43my_test\u001b[49m\u001b[43m)\u001b[49m\u001b[43m)\u001b[49m\n",
      "File \u001b[0;32m~/Documents/NumberRecognition/lib/python3.11/site-packages/keras/src/utils/traceback_utils.py:122\u001b[0m, in \u001b[0;36mfilter_traceback.<locals>.error_handler\u001b[0;34m(*args, **kwargs)\u001b[0m\n\u001b[1;32m    119\u001b[0m     filtered_tb \u001b[38;5;241m=\u001b[39m _process_traceback_frames(e\u001b[38;5;241m.\u001b[39m__traceback__)\n\u001b[1;32m    120\u001b[0m     \u001b[38;5;66;03m# To get the full stack trace, call:\u001b[39;00m\n\u001b[1;32m    121\u001b[0m     \u001b[38;5;66;03m# `keras.config.disable_traceback_filtering()`\u001b[39;00m\n\u001b[0;32m--> 122\u001b[0m     \u001b[38;5;28;01mraise\u001b[39;00m e\u001b[38;5;241m.\u001b[39mwith_traceback(filtered_tb) \u001b[38;5;28;01mfrom\u001b[39;00m \u001b[38;5;28;01mNone\u001b[39;00m\n\u001b[1;32m    123\u001b[0m \u001b[38;5;28;01mfinally\u001b[39;00m:\n\u001b[1;32m    124\u001b[0m     \u001b[38;5;28;01mdel\u001b[39;00m filtered_tb\n",
      "File \u001b[0;32m~/Documents/NumberRecognition/lib/python3.11/site-packages/keras/src/trainers/data_adapters/__init__.py:113\u001b[0m, in \u001b[0;36mget_data_adapter\u001b[0;34m(x, y, sample_weight, batch_size, steps_per_epoch, shuffle, class_weight)\u001b[0m\n\u001b[1;32m    105\u001b[0m     \u001b[38;5;28;01mreturn\u001b[39;00m GeneratorDataAdapter(x)\n\u001b[1;32m    106\u001b[0m     \u001b[38;5;66;03m# TODO: should we warn or not?\u001b[39;00m\n\u001b[1;32m    107\u001b[0m     \u001b[38;5;66;03m# warnings.warn(\u001b[39;00m\n\u001b[1;32m    108\u001b[0m     \u001b[38;5;66;03m#     \"`shuffle=True` was passed, but will be ignored since the \"\u001b[39;00m\n\u001b[0;32m   (...)\u001b[0m\n\u001b[1;32m    111\u001b[0m     \u001b[38;5;66;03m# )\u001b[39;00m\n\u001b[1;32m    112\u001b[0m \u001b[38;5;28;01melse\u001b[39;00m:\n\u001b[0;32m--> 113\u001b[0m     \u001b[38;5;28;01mraise\u001b[39;00m \u001b[38;5;167;01mValueError\u001b[39;00m(\u001b[38;5;124mf\u001b[39m\u001b[38;5;124m\"\u001b[39m\u001b[38;5;124mUnrecognized data type: x=\u001b[39m\u001b[38;5;132;01m{\u001b[39;00mx\u001b[38;5;132;01m}\u001b[39;00m\u001b[38;5;124m (of type \u001b[39m\u001b[38;5;132;01m{\u001b[39;00m\u001b[38;5;28mtype\u001b[39m(x)\u001b[38;5;132;01m}\u001b[39;00m\u001b[38;5;124m)\u001b[39m\u001b[38;5;124m\"\u001b[39m)\n",
      "\u001b[0;31mValueError\u001b[0m: Unrecognized data type: x=[[[[1. 1. 1.]\n   [1. 1. 1.]\n   [1. 1. 1.]\n   ...\n   [1. 1. 1.]\n   [1. 1. 1.]\n   [1. 1. 1.]]\n\n  [[1. 1. 1.]\n   [1. 1. 1.]\n   [1. 1. 1.]\n   ...\n   [1. 1. 1.]\n   [1. 1. 1.]\n   [1. 1. 1.]]\n\n  [[1. 1. 1.]\n   [1. 1. 1.]\n   [1. 1. 1.]\n   ...\n   [1. 1. 1.]\n   [1. 1. 1.]\n   [1. 1. 1.]]\n\n  ...\n\n  [[1. 1. 1.]\n   [1. 1. 1.]\n   [1. 1. 1.]\n   ...\n   [1. 1. 1.]\n   [1. 1. 1.]\n   [1. 1. 1.]]\n\n  [[1. 1. 1.]\n   [1. 1. 1.]\n   [1. 1. 1.]\n   ...\n   [1. 1. 1.]\n   [1. 1. 1.]\n   [1. 1. 1.]]\n\n  [[1. 1. 1.]\n   [1. 1. 1.]\n   [1. 1. 1.]\n   ...\n   [1. 1. 1.]\n   [1. 1. 1.]\n   [1. 1. 1.]]]\n\n\n [[[1. 1. 1.]\n   [1. 1. 1.]\n   [1. 1. 1.]\n   ...\n   [1. 1. 1.]\n   [1. 1. 1.]\n   [1. 1. 1.]]\n\n  [[1. 1. 1.]\n   [1. 1. 1.]\n   [1. 1. 1.]\n   ...\n   [1. 1. 1.]\n   [1. 1. 1.]\n   [1. 1. 1.]]\n\n  [[1. 1. 1.]\n   [1. 1. 1.]\n   [1. 1. 1.]\n   ...\n   [1. 1. 1.]\n   [1. 1. 1.]\n   [1. 1. 1.]]\n\n  ...\n\n  [[1. 1. 1.]\n   [1. 1. 1.]\n   [1. 1. 1.]\n   ...\n   [1. 1. 1.]\n   [1. 1. 1.]\n   [1. 1. 1.]]\n\n  [[1. 1. 1.]\n   [1. 1. 1.]\n   [1. 1. 1.]\n   ...\n   [1. 1. 1.]\n   [1. 1. 1.]\n   [1. 1. 1.]]\n\n  [[1. 1. 1.]\n   [1. 1. 1.]\n   [1. 1. 1.]\n   ...\n   [1. 1. 1.]\n   [1. 1. 1.]\n   [1. 1. 1.]]]\n\n\n [[[1. 1. 1.]\n   [1. 1. 1.]\n   [1. 1. 1.]\n   ...\n   [1. 1. 1.]\n   [1. 1. 1.]\n   [1. 1. 1.]]\n\n  [[1. 1. 1.]\n   [1. 1. 1.]\n   [1. 1. 1.]\n   ...\n   [1. 1. 1.]\n   [1. 1. 1.]\n   [1. 1. 1.]]\n\n  [[1. 1. 1.]\n   [1. 1. 1.]\n   [1. 1. 1.]\n   ...\n   [1. 1. 1.]\n   [1. 1. 1.]\n   [1. 1. 1.]]\n\n  ...\n\n  [[1. 1. 1.]\n   [1. 1. 1.]\n   [1. 1. 1.]\n   ...\n   [1. 1. 1.]\n   [1. 1. 1.]\n   [1. 1. 1.]]\n\n  [[1. 1. 1.]\n   [1. 1. 1.]\n   [1. 1. 1.]\n   ...\n   [1. 1. 1.]\n   [1. 1. 1.]\n   [1. 1. 1.]]\n\n  [[1. 1. 1.]\n   [1. 1. 1.]\n   [1. 1. 1.]\n   ...\n   [1. 1. 1.]\n   [1. 1. 1.]\n   [1. 1. 1.]]]\n\n\n ...\n\n\n [[[1. 1. 1.]\n   [1. 1. 1.]\n   [1. 1. 1.]\n   ...\n   [1. 1. 1.]\n   [1. 1. 1.]\n   [1. 1. 1.]]\n\n  [[1. 1. 1.]\n   [1. 1. 1.]\n   [1. 1. 1.]\n   ...\n   [1. 1. 1.]\n   [1. 1. 1.]\n   [1. 1. 1.]]\n\n  [[1. 1. 1.]\n   [1. 1. 1.]\n   [1. 1. 1.]\n   ...\n   [1. 1. 1.]\n   [1. 1. 1.]\n   [1. 1. 1.]]\n\n  ...\n\n  [[1. 1. 1.]\n   [1. 1. 1.]\n   [1. 1. 1.]\n   ...\n   [1. 1. 1.]\n   [1. 1. 1.]\n   [1. 1. 1.]]\n\n  [[1. 1. 1.]\n   [1. 1. 1.]\n   [1. 1. 1.]\n   ...\n   [1. 1. 1.]\n   [1. 1. 1.]\n   [1. 1. 1.]]\n\n  [[1. 1. 1.]\n   [1. 1. 1.]\n   [1. 1. 1.]\n   ...\n   [1. 1. 1.]\n   [1. 1. 1.]\n   [1. 1. 1.]]]\n\n\n [[[1. 1. 1.]\n   [1. 1. 1.]\n   [1. 1. 1.]\n   ...\n   [1. 1. 1.]\n   [1. 1. 1.]\n   [1. 1. 1.]]\n\n  [[1. 1. 1.]\n   [1. 1. 1.]\n   [1. 1. 1.]\n   ...\n   [1. 1. 1.]\n   [1. 1. 1.]\n   [1. 1. 1.]]\n\n  [[1. 1. 1.]\n   [1. 1. 1.]\n   [1. 1. 1.]\n   ...\n   [1. 1. 1.]\n   [1. 1. 1.]\n   [1. 1. 1.]]\n\n  ...\n\n  [[1. 1. 1.]\n   [1. 1. 1.]\n   [1. 1. 1.]\n   ...\n   [1. 1. 1.]\n   [1. 1. 1.]\n   [1. 1. 1.]]\n\n  [[1. 1. 1.]\n   [1. 1. 1.]\n   [1. 1. 1.]\n   ...\n   [1. 1. 1.]\n   [1. 1. 1.]\n   [1. 1. 1.]]\n\n  [[1. 1. 1.]\n   [1. 1. 1.]\n   [1. 1. 1.]\n   ...\n   [1. 1. 1.]\n   [1. 1. 1.]\n   [1. 1. 1.]]]\n\n\n [[[1. 1. 1.]\n   [1. 1. 1.]\n   [1. 1. 1.]\n   ...\n   [1. 1. 1.]\n   [1. 1. 1.]\n   [1. 1. 1.]]\n\n  [[1. 1. 1.]\n   [1. 1. 1.]\n   [1. 1. 1.]\n   ...\n   [1. 1. 1.]\n   [1. 1. 1.]\n   [1. 1. 1.]]\n\n  [[1. 1. 1.]\n   [1. 1. 1.]\n   [1. 1. 1.]\n   ...\n   [1. 1. 1.]\n   [1. 1. 1.]\n   [1. 1. 1.]]\n\n  ...\n\n  [[1. 1. 1.]\n   [1. 1. 1.]\n   [1. 1. 1.]\n   ...\n   [1. 1. 1.]\n   [1. 1. 1.]\n   [1. 1. 1.]]\n\n  [[1. 1. 1.]\n   [1. 1. 1.]\n   [1. 1. 1.]\n   ...\n   [1. 1. 1.]\n   [1. 1. 1.]\n   [1. 1. 1.]]\n\n  [[1. 1. 1.]\n   [1. 1. 1.]\n   [1. 1. 1.]\n   ...\n   [1. 1. 1.]\n   [1. 1. 1.]\n   [1. 1. 1.]]]] (of type <class 'numpy.ndarray'>)"
     ]
    }
   ],
   "source": [
    "model.compile(optimizer='adam', loss='categorical_crossentropy', metrics=['accuracy'])\n",
    "model.fit(X_train, y_train, batch_size=batch_size, epochs=nb_epochs, verbose=1, validation_data=(X_test, y_test))\n"
   ]
  }
 ],
 "metadata": {
  "kernelspec": {
   "display_name": "NumberRecognition",
   "language": "python",
   "name": "python3"
  },
  "language_info": {
   "codemirror_mode": {
    "name": "ipython",
    "version": 3
   },
   "file_extension": ".py",
   "mimetype": "text/x-python",
   "name": "python",
   "nbconvert_exporter": "python",
   "pygments_lexer": "ipython3",
   "version": "3.11.7"
  }
 },
 "nbformat": 4,
 "nbformat_minor": 2
}
